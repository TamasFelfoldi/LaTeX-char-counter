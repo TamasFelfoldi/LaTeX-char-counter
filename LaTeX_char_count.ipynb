{
  "cells": [
    {
      "cell_type": "markdown",
      "metadata": {
        "id": "view-in-github",
        "colab_type": "text"
      },
      "source": [
        "<a href=\"https://colab.research.google.com/github/TamasFelfoldi/LaTeX-char-counter/blob/main/LaTeX_char_count.ipynb\" target=\"_parent\"><img src=\"https://colab.research.google.com/assets/colab-badge.svg\" alt=\"Open In Colab\"/></a>"
      ]
    },
    {
      "cell_type": "markdown",
      "metadata": {
        "id": "seq7FmfbRbTa"
      },
      "source": [
        "1. lépés\n",
        "\n",
        "    Fájlok -> Feltöltés ikon -> töltsd föl a pdf-edet!\n",
        "\n",
        "  ![upload.png](data:image/png;base64,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)\n",
        "2. lépés\n",
        "\n",
        "    A lenti mezőbe az idézőjelek jelek közé írd be a file nevét -> futtasd a mezőt (Ctrl+Enter)!"
      ],
      "id": "seq7FmfbRbTa"
    },
    {
      "cell_type": "code",
      "execution_count": 1,
      "id": "7675bc29-d3c3-4432-a356-524a0a85f926",
      "metadata": {
        "tags": [],
        "trusted": true,
        "id": "7675bc29-d3c3-4432-a356-524a0a85f926"
      },
      "outputs": [],
      "source": [
        "pdf_path = 'counting (2).pdf'"
      ]
    },
    {
      "cell_type": "markdown",
      "metadata": {
        "id": "9EnkYu1PRbTi"
      },
      "source": [
        "3. lépés\n",
        "\n",
        "    Futtasd a lenti mezőt!"
      ],
      "id": "9EnkYu1PRbTi"
    },
    {
      "cell_type": "code",
      "execution_count": 3,
      "id": "e99c01d1-722c-4fbb-b213-3cfaa3ea926c",
      "metadata": {
        "tags": [],
        "trusted": true,
        "id": "e99c01d1-722c-4fbb-b213-3cfaa3ea926c"
      },
      "outputs": [],
      "source": [
        "%%capture\n",
        "%pip install PyMuPDF\n",
        "\n",
        "import fitz  # PyMuPDF\n",
        "\n",
        "def count_pdf_chars(pdf_path, start_marker, end_marker):\n",
        "    doc = fitz.open(pdf_path)\n",
        "    char_count = 0\n",
        "    counting = False\n",
        "\n",
        "    for page_num in range(len(doc)):\n",
        "        page = doc[page_num]\n",
        "        annotations = page.annots()\n",
        "\n",
        "        if annotations:\n",
        "            for annot in annotations:\n",
        "                if annot.info[\"content\"] == start_marker:\n",
        "                    counting = True\n",
        "                    continue\n",
        "                if annot.info[\"content\"] == end_marker:\n",
        "                    counting = False\n",
        "                    break  # Exit the loop after the STOPCOUNTING marker is found\n",
        "\n",
        "        if counting:\n",
        "            text = page.get_text(\"text\")\n",
        "            char_count += len(text.replace(\" \", \"\"))\n",
        "\n",
        "    doc.close()\n",
        "    return char_count\n",
        "\n",
        "# Markers to start and stop counting\n",
        "start_marker = \"STARTCOUNTING\"\n",
        "end_marker = \"STOPCOUNTING\""
      ]
    },
    {
      "cell_type": "markdown",
      "source": [
        "4. Lépés\n",
        "\n",
        "  Ezt is futtasd! Alul látod a karakterszámot."
      ],
      "metadata": {
        "id": "0Q5LdmCWTVAo"
      },
      "id": "0Q5LdmCWTVAo"
    },
    {
      "cell_type": "code",
      "source": [
        "# Count the characters\n",
        "number_of_chars = count_pdf_chars(pdf_path, start_marker, end_marker)\n",
        "print(f'Karakterszám a törzsszövegben szóközök nélkül: {number_of_chars}')"
      ],
      "metadata": {
        "id": "5cOK0aJOSulW"
      },
      "id": "5cOK0aJOSulW",
      "execution_count": null,
      "outputs": []
    }
  ],
  "metadata": {
    "kernelspec": {
      "display_name": "Python 3 (ipykernel)",
      "language": "python",
      "name": "python3"
    },
    "language_info": {
      "codemirror_mode": {
        "name": "ipython",
        "version": 3
      },
      "file_extension": ".py",
      "mimetype": "text/x-python",
      "name": "python",
      "nbconvert_exporter": "python",
      "pygments_lexer": "ipython3",
      "version": "3.11.4"
    },
    "colab": {
      "provenance": [],
      "include_colab_link": true
    }
  },
  "nbformat": 4,
  "nbformat_minor": 5
}